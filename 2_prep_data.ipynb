{
 "cells": [
  {
   "cell_type": "markdown",
   "metadata": {},
   "source": [
    "## How do I prep my data for analysis?"
   ]
  },
  {
   "cell_type": "markdown",
   "metadata": {},
   "source": [
    "The taxis dataset is ideal for learning how to clean and prep data, because it has many different types of data and it is so messy. The whole idea of preparing your data is to ensure:\n",
    "\n",
    "- there are no missing values\n",
    "- the date / number / location entries are in the correct formats\n",
    "- values are normalized if needed\n",
    "- correlated values are dealt with (e.g., by using PCA)\n",
    "- text values are encoded as needed\n",
    "- data is aggregated / disaggregated as needed\n",
    "- feature names are what you require\n",
    "- distributions of quantitative data are what you expect\n",
    "- etc."
   ]
  },
  {
   "cell_type": "markdown",
   "metadata": {},
   "source": [
    "There are many things to look for. It is tedious, and one of the least liked tasks by most. Unfortunately, it is also both one of the most important tasks, and one of the most time consuming."
   ]
  },
  {
   "cell_type": "code",
   "execution_count": 1,
   "metadata": {},
   "outputs": [],
   "source": [
    "# First, import some libraries, specify file location, and import data\n",
    "# Use \"warnings\" to cut down on the verbosity of warnings\n",
    "import warnings \n",
    "warnings.filterwarnings('ignore')\n",
    "import seaborn as sns\n",
    "import pandas as pd"
   ]
  },
  {
   "cell_type": "code",
   "execution_count": 2,
   "metadata": {
    "scrolled": false
   },
   "outputs": [
    {
     "data": {
      "text/html": [
       "<div>\n",
       "<style scoped>\n",
       "    .dataframe tbody tr th:only-of-type {\n",
       "        vertical-align: middle;\n",
       "    }\n",
       "\n",
       "    .dataframe tbody tr th {\n",
       "        vertical-align: top;\n",
       "    }\n",
       "\n",
       "    .dataframe thead th {\n",
       "        text-align: right;\n",
       "    }\n",
       "</style>\n",
       "<table border=\"1\" class=\"dataframe\">\n",
       "  <thead>\n",
       "    <tr style=\"text-align: right;\">\n",
       "      <th></th>\n",
       "      <th>pickup</th>\n",
       "      <th>dropoff</th>\n",
       "      <th>passengers</th>\n",
       "      <th>distance</th>\n",
       "      <th>fare</th>\n",
       "      <th>tip</th>\n",
       "      <th>tolls</th>\n",
       "      <th>total</th>\n",
       "      <th>color</th>\n",
       "      <th>payment</th>\n",
       "      <th>pickup_zone</th>\n",
       "      <th>dropoff_zone</th>\n",
       "      <th>pickup_borough</th>\n",
       "      <th>dropoff_borough</th>\n",
       "    </tr>\n",
       "  </thead>\n",
       "  <tbody>\n",
       "    <tr>\n",
       "      <th>0</th>\n",
       "      <td>2019-03-23 20:21:09</td>\n",
       "      <td>2019-03-23 20:27:24</td>\n",
       "      <td>1</td>\n",
       "      <td>1.60</td>\n",
       "      <td>7.0</td>\n",
       "      <td>2.15</td>\n",
       "      <td>0.0</td>\n",
       "      <td>12.95</td>\n",
       "      <td>yellow</td>\n",
       "      <td>credit card</td>\n",
       "      <td>Lenox Hill West</td>\n",
       "      <td>UN/Turtle Bay South</td>\n",
       "      <td>Manhattan</td>\n",
       "      <td>Manhattan</td>\n",
       "    </tr>\n",
       "    <tr>\n",
       "      <th>1</th>\n",
       "      <td>2019-03-04 16:11:55</td>\n",
       "      <td>2019-03-04 16:19:00</td>\n",
       "      <td>1</td>\n",
       "      <td>0.79</td>\n",
       "      <td>5.0</td>\n",
       "      <td>0.00</td>\n",
       "      <td>0.0</td>\n",
       "      <td>9.30</td>\n",
       "      <td>yellow</td>\n",
       "      <td>cash</td>\n",
       "      <td>Upper West Side South</td>\n",
       "      <td>Upper West Side South</td>\n",
       "      <td>Manhattan</td>\n",
       "      <td>Manhattan</td>\n",
       "    </tr>\n",
       "    <tr>\n",
       "      <th>2</th>\n",
       "      <td>2019-03-27 17:53:01</td>\n",
       "      <td>2019-03-27 18:00:25</td>\n",
       "      <td>1</td>\n",
       "      <td>1.37</td>\n",
       "      <td>7.5</td>\n",
       "      <td>2.36</td>\n",
       "      <td>0.0</td>\n",
       "      <td>14.16</td>\n",
       "      <td>yellow</td>\n",
       "      <td>credit card</td>\n",
       "      <td>Alphabet City</td>\n",
       "      <td>West Village</td>\n",
       "      <td>Manhattan</td>\n",
       "      <td>Manhattan</td>\n",
       "    </tr>\n",
       "    <tr>\n",
       "      <th>3</th>\n",
       "      <td>2019-03-10 01:23:59</td>\n",
       "      <td>2019-03-10 01:49:51</td>\n",
       "      <td>1</td>\n",
       "      <td>7.70</td>\n",
       "      <td>27.0</td>\n",
       "      <td>6.15</td>\n",
       "      <td>0.0</td>\n",
       "      <td>36.95</td>\n",
       "      <td>yellow</td>\n",
       "      <td>credit card</td>\n",
       "      <td>Hudson Sq</td>\n",
       "      <td>Yorkville West</td>\n",
       "      <td>Manhattan</td>\n",
       "      <td>Manhattan</td>\n",
       "    </tr>\n",
       "    <tr>\n",
       "      <th>4</th>\n",
       "      <td>2019-03-30 13:27:42</td>\n",
       "      <td>2019-03-30 13:37:14</td>\n",
       "      <td>3</td>\n",
       "      <td>2.16</td>\n",
       "      <td>9.0</td>\n",
       "      <td>1.10</td>\n",
       "      <td>0.0</td>\n",
       "      <td>13.40</td>\n",
       "      <td>yellow</td>\n",
       "      <td>credit card</td>\n",
       "      <td>Midtown East</td>\n",
       "      <td>Yorkville West</td>\n",
       "      <td>Manhattan</td>\n",
       "      <td>Manhattan</td>\n",
       "    </tr>\n",
       "  </tbody>\n",
       "</table>\n",
       "</div>"
      ],
      "text/plain": [
       "                pickup              dropoff  passengers  distance  fare   tip  \\\n",
       "0  2019-03-23 20:21:09  2019-03-23 20:27:24           1      1.60   7.0  2.15   \n",
       "1  2019-03-04 16:11:55  2019-03-04 16:19:00           1      0.79   5.0  0.00   \n",
       "2  2019-03-27 17:53:01  2019-03-27 18:00:25           1      1.37   7.5  2.36   \n",
       "3  2019-03-10 01:23:59  2019-03-10 01:49:51           1      7.70  27.0  6.15   \n",
       "4  2019-03-30 13:27:42  2019-03-30 13:37:14           3      2.16   9.0  1.10   \n",
       "\n",
       "   tolls  total   color      payment            pickup_zone  \\\n",
       "0    0.0  12.95  yellow  credit card        Lenox Hill West   \n",
       "1    0.0   9.30  yellow         cash  Upper West Side South   \n",
       "2    0.0  14.16  yellow  credit card          Alphabet City   \n",
       "3    0.0  36.95  yellow  credit card              Hudson Sq   \n",
       "4    0.0  13.40  yellow  credit card           Midtown East   \n",
       "\n",
       "            dropoff_zone pickup_borough dropoff_borough  \n",
       "0    UN/Turtle Bay South      Manhattan       Manhattan  \n",
       "1  Upper West Side South      Manhattan       Manhattan  \n",
       "2           West Village      Manhattan       Manhattan  \n",
       "3         Yorkville West      Manhattan       Manhattan  \n",
       "4         Yorkville West      Manhattan       Manhattan  "
      ]
     },
     "execution_count": 2,
     "metadata": {},
     "output_type": "execute_result"
    }
   ],
   "source": [
    "df = sns.load_dataset('taxis')\n",
    "df.head()"
   ]
  },
  {
   "cell_type": "markdown",
   "metadata": {},
   "source": [
    "There are several ways we can look at the data, using things like 'columns', 'info', 'shape' etc."
   ]
  },
  {
   "cell_type": "code",
   "execution_count": 3,
   "metadata": {},
   "outputs": [
    {
     "data": {
      "text/plain": [
       "Index(['pickup', 'dropoff', 'passengers', 'distance', 'fare', 'tip', 'tolls',\n",
       "       'total', 'color', 'payment', 'pickup_zone', 'dropoff_zone',\n",
       "       'pickup_borough', 'dropoff_borough'],\n",
       "      dtype='object')"
      ]
     },
     "execution_count": 3,
     "metadata": {},
     "output_type": "execute_result"
    }
   ],
   "source": [
    "df.columns"
   ]
  },
  {
   "cell_type": "code",
   "execution_count": 4,
   "metadata": {},
   "outputs": [
    {
     "name": "stdout",
     "output_type": "stream",
     "text": [
      "<class 'pandas.core.frame.DataFrame'>\n",
      "RangeIndex: 6433 entries, 0 to 6432\n",
      "Data columns (total 14 columns):\n",
      " #   Column           Non-Null Count  Dtype  \n",
      "---  ------           --------------  -----  \n",
      " 0   pickup           6433 non-null   object \n",
      " 1   dropoff          6433 non-null   object \n",
      " 2   passengers       6433 non-null   int64  \n",
      " 3   distance         6433 non-null   float64\n",
      " 4   fare             6433 non-null   float64\n",
      " 5   tip              6433 non-null   float64\n",
      " 6   tolls            6433 non-null   float64\n",
      " 7   total            6433 non-null   float64\n",
      " 8   color            6433 non-null   object \n",
      " 9   payment          6389 non-null   object \n",
      " 10  pickup_zone      6407 non-null   object \n",
      " 11  dropoff_zone     6388 non-null   object \n",
      " 12  pickup_borough   6407 non-null   object \n",
      " 13  dropoff_borough  6388 non-null   object \n",
      "dtypes: float64(5), int64(1), object(8)\n",
      "memory usage: 703.7+ KB\n"
     ]
    }
   ],
   "source": [
    "df.info()"
   ]
  },
  {
   "cell_type": "code",
   "execution_count": 5,
   "metadata": {},
   "outputs": [
    {
     "data": {
      "text/plain": [
       "(6433, 14)"
      ]
     },
     "execution_count": 5,
     "metadata": {},
     "output_type": "execute_result"
    }
   ],
   "source": [
    "df.shape"
   ]
  },
  {
   "cell_type": "code",
   "execution_count": 6,
   "metadata": {},
   "outputs": [
    {
     "data": {
      "text/html": [
       "<div>\n",
       "<style scoped>\n",
       "    .dataframe tbody tr th:only-of-type {\n",
       "        vertical-align: middle;\n",
       "    }\n",
       "\n",
       "    .dataframe tbody tr th {\n",
       "        vertical-align: top;\n",
       "    }\n",
       "\n",
       "    .dataframe thead th {\n",
       "        text-align: right;\n",
       "    }\n",
       "</style>\n",
       "<table border=\"1\" class=\"dataframe\">\n",
       "  <thead>\n",
       "    <tr style=\"text-align: right;\">\n",
       "      <th></th>\n",
       "      <th>passengers</th>\n",
       "      <th>distance</th>\n",
       "      <th>fare</th>\n",
       "      <th>tip</th>\n",
       "      <th>tolls</th>\n",
       "      <th>total</th>\n",
       "    </tr>\n",
       "  </thead>\n",
       "  <tbody>\n",
       "    <tr>\n",
       "      <th>count</th>\n",
       "      <td>6433.000000</td>\n",
       "      <td>6433.000000</td>\n",
       "      <td>6433.000000</td>\n",
       "      <td>6433.00000</td>\n",
       "      <td>6433.000000</td>\n",
       "      <td>6433.000000</td>\n",
       "    </tr>\n",
       "    <tr>\n",
       "      <th>mean</th>\n",
       "      <td>1.539251</td>\n",
       "      <td>3.024617</td>\n",
       "      <td>13.091073</td>\n",
       "      <td>1.97922</td>\n",
       "      <td>0.325273</td>\n",
       "      <td>18.517794</td>\n",
       "    </tr>\n",
       "    <tr>\n",
       "      <th>std</th>\n",
       "      <td>1.203768</td>\n",
       "      <td>3.827867</td>\n",
       "      <td>11.551804</td>\n",
       "      <td>2.44856</td>\n",
       "      <td>1.415267</td>\n",
       "      <td>13.815570</td>\n",
       "    </tr>\n",
       "    <tr>\n",
       "      <th>min</th>\n",
       "      <td>0.000000</td>\n",
       "      <td>0.000000</td>\n",
       "      <td>1.000000</td>\n",
       "      <td>0.00000</td>\n",
       "      <td>0.000000</td>\n",
       "      <td>1.300000</td>\n",
       "    </tr>\n",
       "    <tr>\n",
       "      <th>25%</th>\n",
       "      <td>1.000000</td>\n",
       "      <td>0.980000</td>\n",
       "      <td>6.500000</td>\n",
       "      <td>0.00000</td>\n",
       "      <td>0.000000</td>\n",
       "      <td>10.800000</td>\n",
       "    </tr>\n",
       "    <tr>\n",
       "      <th>50%</th>\n",
       "      <td>1.000000</td>\n",
       "      <td>1.640000</td>\n",
       "      <td>9.500000</td>\n",
       "      <td>1.70000</td>\n",
       "      <td>0.000000</td>\n",
       "      <td>14.160000</td>\n",
       "    </tr>\n",
       "    <tr>\n",
       "      <th>75%</th>\n",
       "      <td>2.000000</td>\n",
       "      <td>3.210000</td>\n",
       "      <td>15.000000</td>\n",
       "      <td>2.80000</td>\n",
       "      <td>0.000000</td>\n",
       "      <td>20.300000</td>\n",
       "    </tr>\n",
       "    <tr>\n",
       "      <th>max</th>\n",
       "      <td>6.000000</td>\n",
       "      <td>36.700000</td>\n",
       "      <td>150.000000</td>\n",
       "      <td>33.20000</td>\n",
       "      <td>24.020000</td>\n",
       "      <td>174.820000</td>\n",
       "    </tr>\n",
       "  </tbody>\n",
       "</table>\n",
       "</div>"
      ],
      "text/plain": [
       "        passengers     distance         fare         tip        tolls  \\\n",
       "count  6433.000000  6433.000000  6433.000000  6433.00000  6433.000000   \n",
       "mean      1.539251     3.024617    13.091073     1.97922     0.325273   \n",
       "std       1.203768     3.827867    11.551804     2.44856     1.415267   \n",
       "min       0.000000     0.000000     1.000000     0.00000     0.000000   \n",
       "25%       1.000000     0.980000     6.500000     0.00000     0.000000   \n",
       "50%       1.000000     1.640000     9.500000     1.70000     0.000000   \n",
       "75%       2.000000     3.210000    15.000000     2.80000     0.000000   \n",
       "max       6.000000    36.700000   150.000000    33.20000    24.020000   \n",
       "\n",
       "             total  \n",
       "count  6433.000000  \n",
       "mean     18.517794  \n",
       "std      13.815570  \n",
       "min       1.300000  \n",
       "25%      10.800000  \n",
       "50%      14.160000  \n",
       "75%      20.300000  \n",
       "max     174.820000  "
      ]
     },
     "execution_count": 6,
     "metadata": {},
     "output_type": "execute_result"
    }
   ],
   "source": [
    "df.describe()"
   ]
  },
  {
   "cell_type": "markdown",
   "metadata": {},
   "source": [
    "With this next block of code, we are filtering and aggregating data, then printing out the shape of the new dataframes. Shape is always (rows , columns)."
   ]
  },
  {
   "cell_type": "code",
   "execution_count": 7,
   "metadata": {},
   "outputs": [
    {
     "name": "stdout",
     "output_type": "stream",
     "text": [
      "The rows and columns for df1 are (1659, 14)\n",
      "The rows and columns for df2 are (14, 1)\n",
      "The rows and columns of df3 are (3, 1)\n"
     ]
    }
   ],
   "source": [
    "# Filter to only observations where passengers are greater than or equal to 2\n",
    "df1=df[df['passengers']>=2]\n",
    "print(f\"The rows and columns for df1 are {df1.shape}\")\n",
    "\n",
    "# Group the data in the total column by pickup borough, then dropoff borough\n",
    "df2=pd.DataFrame(df1.groupby(['pickup_borough','dropoff_borough'])['total'] .agg(sum))\n",
    "df2.reset_index()\n",
    "print(f\"The rows and columns for df2 are {df2.shape}\")\n",
    "\n",
    "# Bucket the total column into equal size buckets (useful for things like histograms)\n",
    "df3 = pd.DataFrame (pd.qcut( df1['total'],3,labels=None ).value_counts())\n",
    "print(f\"The rows and columns of df3 are {df3.shape}\")"
   ]
  },
  {
   "cell_type": "markdown",
   "metadata": {},
   "source": [
    "Back to the original dataframe, we now want to start addressing null values. After each thing we do, we'll print out the current list of nulls."
   ]
  },
  {
   "cell_type": "code",
   "execution_count": 8,
   "metadata": {},
   "outputs": [
    {
     "name": "stdout",
     "output_type": "stream",
     "text": [
      "These are the features with null values, and the count of null values in each.\n",
      "payment            44\n",
      "pickup_zone        26\n",
      "dropoff_zone       45\n",
      "pickup_borough     26\n",
      "dropoff_borough    45\n",
      "dtype: int64\n"
     ]
    }
   ],
   "source": [
    "nulls = df.isnull().sum()\n",
    "print(\"These are the features with null values, and the count of null values in each.\")\n",
    "print(nulls[nulls >= 1])"
   ]
  },
  {
   "cell_type": "markdown",
   "metadata": {},
   "source": [
    "Since locations are very important to us, any row that is missing location information is of no use. What are the counts for boroughs and zones?"
   ]
  },
  {
   "cell_type": "code",
   "execution_count": 9,
   "metadata": {},
   "outputs": [
    {
     "name": "stdout",
     "output_type": "stream",
     "text": [
      "Number of pickup boroughs: 5\n",
      "Number of pickup zones: 195\n"
     ]
    }
   ],
   "source": [
    "print(\"Number of pickup boroughs:\", len(df['pickup_borough'].unique()))\n",
    "print(\"Number of pickup zones:\", len(df['pickup_zone'].unique()))"
   ]
  },
  {
   "cell_type": "markdown",
   "metadata": {},
   "source": [
    "We have a lot more zones than boroughs, safe to say zones are nested in boroughs. \n",
    "Question: if the row is missing borough, will it also be missing zone?"
   ]
  },
  {
   "cell_type": "code",
   "execution_count": 10,
   "metadata": {},
   "outputs": [
    {
     "name": "stdout",
     "output_type": "stream",
     "text": [
      "0\n",
      "0\n"
     ]
    }
   ],
   "source": [
    "# First we create dataframes with no missing pickup and dropoff boroughs. \n",
    "# These dataframes also have the pickup/dropoff zone columns too.\n",
    "\n",
    "df_not_null_puzone = df[df['pickup_borough'].notnull()]\n",
    "df_not_null_dozone = df[df['dropoff_borough'].notnull()]\n",
    "\n",
    "# Next, we count how many missing pickup and dropoff zones there are. \n",
    "# Remember, this result has already been filtered for missing boroughs.\n",
    "\n",
    "print(df_not_null_puzone['pickup_zone'].isnull().sum())\n",
    "print(df_not_null_dozone['dropoff_zone'].isnull().sum())"
   ]
  },
  {
   "cell_type": "markdown",
   "metadata": {},
   "source": [
    "Looks like when we took out all observations with missing boroughs, we also removed all values with missing zones. Good. This means we can drop observations that are missing both pickup and dropoff boroughs and zones, because there's no way to infer these.\n",
    "Next, we want to know how many observations with missing zones and boroughs are left."
   ]
  },
  {
   "cell_type": "code",
   "execution_count": 11,
   "metadata": {},
   "outputs": [
    {
     "name": "stdout",
     "output_type": "stream",
     "text": [
      "payment            44\n",
      "pickup_zone         5\n",
      "dropoff_zone       24\n",
      "pickup_borough      5\n",
      "dropoff_borough    24\n",
      "dtype: int64\n"
     ]
    }
   ],
   "source": [
    "df2 = df[df['pickup_borough'].notnull() | df['dropoff_borough'].notnull()]\n",
    "nulls2 = df2.isnull().sum()\n",
    "print(nulls2[nulls2 >= 1])"
   ]
  },
  {
   "cell_type": "markdown",
   "metadata": {},
   "source": [
    "Originally, we had 26 missing pickup boroughs and 45 missing dropoff boroughs, now we're down to 5 and 24 respectively. We can still use this info for studying data on either pickup or dropoff locations, but if we want to study data on entire trips (having both pickup and dropoff info) then we'll want to filter out any observations that are missing either pickup or dropoff info."
   ]
  },
  {
   "cell_type": "markdown",
   "metadata": {},
   "source": [
    "Next is payment type. We want to figure out the percentage of cash vs. credit payments overall, and by locations. But, we did have quite a few missing values in payment type, which we need to deal with. Let's first look at the class balance overall, then by pickup and dropoff boroughs."
   ]
  },
  {
   "cell_type": "code",
   "execution_count": 12,
   "metadata": {},
   "outputs": [
    {
     "name": "stdout",
     "output_type": "stream",
     "text": [
      "Balance of payment feature overall\n",
      "             payment\n",
      "credit card  0.71608\n",
      "cash         0.28392\n",
      "\n",
      "Balance of payment feature by pickup borough\n",
      "                             payment\n",
      "pickup_borough payment              \n",
      "Bronx          credit card  0.747475\n",
      "               cash         0.252525\n",
      "Brooklyn       credit card  0.686842\n",
      "               cash         0.313158\n",
      "Manhattan      credit card  0.733193\n",
      "               cash         0.266807\n",
      "Queens         credit card  0.590139\n",
      "               cash         0.409861\n",
      "\n",
      "Balance of payment feature by dropoff borough\n",
      "                              payment\n",
      "dropoff_borough payment              \n",
      "Bronx           credit card  0.617647\n",
      "                cash         0.382353\n",
      "Brooklyn        credit card  0.692153\n",
      "                cash         0.307847\n",
      "Manhattan       credit card  0.737056\n",
      "                cash         0.262944\n",
      "Queens          credit card  0.569288\n",
      "                cash         0.430712\n",
      "Staten Island   credit card  1.000000\n"
     ]
    }
   ],
   "source": [
    "df2_notnull = df2[df2['payment'].notnull()]\n",
    "\n",
    "print('Balance of payment feature overall')\n",
    "print(df2_notnull['payment'].value_counts(normalize = True).to_frame())\n",
    "print (\"\")\n",
    "\n",
    "print('Balance of payment feature by pickup borough')\n",
    "print(df2_notnull.groupby('pickup_borough')['payment'].value_counts(normalize = True).to_frame())\n",
    "print (\"\")\n",
    "\n",
    "print('Balance of payment feature by dropoff borough')\n",
    "print(df2_notnull.groupby('dropoff_borough')['payment'].value_counts(normalize = True).to_frame())"
   ]
  },
  {
   "cell_type": "markdown",
   "metadata": {},
   "source": [
    "We can see that overall the split is about 70/30, but not nearly so in some locations. Best thing would be to calculate the current class balance in each location, then impute values based on that. So, if a location had about 70% credit and 30% cash, we would want to fill in the missing values with roughly that same balance.\n",
    "\n",
    "Question though: do we use pickup or dropoff borough? Here's where we now decide we want to do things by total trip, so we first need to create a dataframe with no null values in either pickup or dropoff borough."
   ]
  },
  {
   "cell_type": "code",
   "execution_count": 13,
   "metadata": {},
   "outputs": [
    {
     "name": "stdout",
     "output_type": "stream",
     "text": [
      "pickup              0\n",
      "dropoff             0\n",
      "passengers          0\n",
      "distance            0\n",
      "fare                0\n",
      "tip                 0\n",
      "tolls               0\n",
      "total               0\n",
      "color               0\n",
      "payment            42\n",
      "pickup_zone         0\n",
      "dropoff_zone        0\n",
      "pickup_borough      0\n",
      "dropoff_borough     0\n",
      "dtype: int64\n"
     ]
    }
   ],
   "source": [
    "df3 = df2[(df2['pickup_borough'].notnull()) & (df2['dropoff_borough'].notnull())]\n",
    "nulls = df3.isnull().sum()\n",
    "print(nulls)"
   ]
  },
  {
   "cell_type": "markdown",
   "metadata": {},
   "source": [
    "Once we get rid of the rows with missing location, the only missing values we have now are for payment. We can see from above that we have 42 of them. Below, we look at the overall percentage split again between cash and credit."
   ]
  },
  {
   "cell_type": "code",
   "execution_count": 14,
   "metadata": {},
   "outputs": [
    {
     "name": "stdout",
     "output_type": "stream",
     "text": [
      "credit card    0.716922\n",
      "cash           0.283078\n",
      "Name: payment, dtype: float64\n"
     ]
    }
   ],
   "source": [
    "df3_wasNull = df3\n",
    "print(df3_wasNull['payment'].value_counts(normalize=True))\n",
    "nulls1 = df3_wasNull.isnull().sum()"
   ]
  },
  {
   "cell_type": "markdown",
   "metadata": {},
   "source": [
    "OK, now let's assign values to the missing ones based on the cash/credit split for each trip type. We group by trip (both pickup and dropoff borough). Then, for each pickup/dropoff pair, we assign values based on the split for that trip type. Finally, we check to make sure our cash/credit split overall has not been affected."
   ]
  },
  {
   "cell_type": "code",
   "execution_count": 15,
   "metadata": {
    "scrolled": true
   },
   "outputs": [
    {
     "name": "stdout",
     "output_type": "stream",
     "text": [
      "              payment\n",
      "credit card  0.716278\n",
      "cash         0.283722\n"
     ]
    }
   ],
   "source": [
    "import numpy as np\n",
    "for _, gdf in df3.groupby(['pickup_borough', 'dropoff_borough'])['payment']:\n",
    "    vc = gdf.value_counts(normalize=True)\n",
    "    df3.loc[gdf.loc[gdf.isna()].index, 'payment'] = (\n",
    "        np.random.choice(vc.index, gdf.isna().sum(), p=vc)\n",
    "    )\n",
    "print(df3['payment'].value_counts(normalize=True).to_frame())"
   ]
  },
  {
   "cell_type": "markdown",
   "metadata": {},
   "source": [
    "Looks good. We were able to impute and assign values for cash/credit based on the split by total trip from/to locations, and maintain our overall class balance across the whole dataset."
   ]
  },
  {
   "cell_type": "markdown",
   "metadata": {},
   "source": [
    "Just a final check to make sure that all nulls have been taken care of now."
   ]
  },
  {
   "cell_type": "code",
   "execution_count": 16,
   "metadata": {},
   "outputs": [
    {
     "data": {
      "text/plain": [
       "pickup             0\n",
       "dropoff            0\n",
       "passengers         0\n",
       "distance           0\n",
       "fare               0\n",
       "tip                0\n",
       "tolls              0\n",
       "total              0\n",
       "color              0\n",
       "payment            0\n",
       "pickup_zone        0\n",
       "dropoff_zone       0\n",
       "pickup_borough     0\n",
       "dropoff_borough    0\n",
       "dtype: int64"
      ]
     },
     "execution_count": 16,
     "metadata": {},
     "output_type": "execute_result"
    }
   ],
   "source": [
    "df3.isnull().sum()"
   ]
  },
  {
   "cell_type": "markdown",
   "metadata": {},
   "source": [
    "Yes, all done. Now, we need to look at other aspects of the dataset. In particular, the summary statistics."
   ]
  },
  {
   "cell_type": "code",
   "execution_count": 17,
   "metadata": {},
   "outputs": [
    {
     "data": {
      "text/html": [
       "<div>\n",
       "<style scoped>\n",
       "    .dataframe tbody tr th:only-of-type {\n",
       "        vertical-align: middle;\n",
       "    }\n",
       "\n",
       "    .dataframe tbody tr th {\n",
       "        vertical-align: top;\n",
       "    }\n",
       "\n",
       "    .dataframe thead th {\n",
       "        text-align: right;\n",
       "    }\n",
       "</style>\n",
       "<table border=\"1\" class=\"dataframe\">\n",
       "  <thead>\n",
       "    <tr style=\"text-align: right;\">\n",
       "      <th></th>\n",
       "      <th>passengers</th>\n",
       "      <th>distance</th>\n",
       "      <th>fare</th>\n",
       "      <th>tip</th>\n",
       "      <th>tolls</th>\n",
       "      <th>total</th>\n",
       "    </tr>\n",
       "  </thead>\n",
       "  <tbody>\n",
       "    <tr>\n",
       "      <th>count</th>\n",
       "      <td>6383.000000</td>\n",
       "      <td>6383.000000</td>\n",
       "      <td>6383.000000</td>\n",
       "      <td>6383.000000</td>\n",
       "      <td>6383.000000</td>\n",
       "      <td>6383.000000</td>\n",
       "    </tr>\n",
       "    <tr>\n",
       "      <th>mean</th>\n",
       "      <td>1.540812</td>\n",
       "      <td>2.994479</td>\n",
       "      <td>12.873472</td>\n",
       "      <td>1.959723</td>\n",
       "      <td>0.314526</td>\n",
       "      <td>18.281059</td>\n",
       "    </tr>\n",
       "    <tr>\n",
       "      <th>std</th>\n",
       "      <td>1.205929</td>\n",
       "      <td>3.717136</td>\n",
       "      <td>10.718949</td>\n",
       "      <td>2.359509</td>\n",
       "      <td>1.368289</td>\n",
       "      <td>12.947807</td>\n",
       "    </tr>\n",
       "    <tr>\n",
       "      <th>min</th>\n",
       "      <td>0.000000</td>\n",
       "      <td>0.000000</td>\n",
       "      <td>1.000000</td>\n",
       "      <td>0.000000</td>\n",
       "      <td>0.000000</td>\n",
       "      <td>1.300000</td>\n",
       "    </tr>\n",
       "    <tr>\n",
       "      <th>25%</th>\n",
       "      <td>1.000000</td>\n",
       "      <td>0.990000</td>\n",
       "      <td>6.500000</td>\n",
       "      <td>0.000000</td>\n",
       "      <td>0.000000</td>\n",
       "      <td>10.800000</td>\n",
       "    </tr>\n",
       "    <tr>\n",
       "      <th>50%</th>\n",
       "      <td>1.000000</td>\n",
       "      <td>1.650000</td>\n",
       "      <td>9.500000</td>\n",
       "      <td>1.700000</td>\n",
       "      <td>0.000000</td>\n",
       "      <td>14.160000</td>\n",
       "    </tr>\n",
       "    <tr>\n",
       "      <th>75%</th>\n",
       "      <td>2.000000</td>\n",
       "      <td>3.200000</td>\n",
       "      <td>15.000000</td>\n",
       "      <td>2.790000</td>\n",
       "      <td>0.000000</td>\n",
       "      <td>20.300000</td>\n",
       "    </tr>\n",
       "    <tr>\n",
       "      <th>max</th>\n",
       "      <td>6.000000</td>\n",
       "      <td>36.700000</td>\n",
       "      <td>150.000000</td>\n",
       "      <td>23.190000</td>\n",
       "      <td>24.020000</td>\n",
       "      <td>174.820000</td>\n",
       "    </tr>\n",
       "  </tbody>\n",
       "</table>\n",
       "</div>"
      ],
      "text/plain": [
       "        passengers     distance         fare          tip        tolls  \\\n",
       "count  6383.000000  6383.000000  6383.000000  6383.000000  6383.000000   \n",
       "mean      1.540812     2.994479    12.873472     1.959723     0.314526   \n",
       "std       1.205929     3.717136    10.718949     2.359509     1.368289   \n",
       "min       0.000000     0.000000     1.000000     0.000000     0.000000   \n",
       "25%       1.000000     0.990000     6.500000     0.000000     0.000000   \n",
       "50%       1.000000     1.650000     9.500000     1.700000     0.000000   \n",
       "75%       2.000000     3.200000    15.000000     2.790000     0.000000   \n",
       "max       6.000000    36.700000   150.000000    23.190000    24.020000   \n",
       "\n",
       "             total  \n",
       "count  6383.000000  \n",
       "mean     18.281059  \n",
       "std      12.947807  \n",
       "min       1.300000  \n",
       "25%      10.800000  \n",
       "50%      14.160000  \n",
       "75%      20.300000  \n",
       "max     174.820000  "
      ]
     },
     "execution_count": 17,
     "metadata": {},
     "output_type": "execute_result"
    }
   ],
   "source": [
    "df3.describe()"
   ]
  },
  {
   "cell_type": "raw",
   "metadata": {},
   "source": [
    "There are some things that look wierd. First, there are some trips with no passengers. That could be food or medicine delivery, or it could be trips charged where the traveler didn't show up or cancelled last minute. Or, it could be an error. Let's see how many we have. For this, I filtered on passengers = 0, and looked at the 'shape' which gives me numbers of rows and columns."
   ]
  },
  {
   "cell_type": "code",
   "execution_count": 18,
   "metadata": {
    "scrolled": true
   },
   "outputs": [
    {
     "name": "stdout",
     "output_type": "stream",
     "text": [
      "The number of rows and columns in a dataset filtered on zero passengers is:\n"
     ]
    },
    {
     "data": {
      "text/plain": [
       "(96, 14)"
      ]
     },
     "execution_count": 18,
     "metadata": {},
     "output_type": "execute_result"
    }
   ],
   "source": [
    "#There are apparently trips with zero passengers that went zero distance. Let's take a look at those.\n",
    "print(\"The number of rows and columns in a dataset filtered on zero passengers is:\")\n",
    "df3[df3['passengers'] == 0].shape"
   ]
  },
  {
   "cell_type": "markdown",
   "metadata": {},
   "source": [
    "Wow, 96 rows are missing passengers. We need to decide what to do, but not right now. Next, let's look at numbers of rows and columns in a dataset filtered on zero distance. Really, you don't need to know the number of columns for this, I just used shape as an example of one way to get this info."
   ]
  },
  {
   "cell_type": "code",
   "execution_count": 19,
   "metadata": {},
   "outputs": [
    {
     "data": {
      "text/plain": [
       "(36, 14)"
      ]
     },
     "execution_count": 19,
     "metadata": {},
     "output_type": "execute_result"
    }
   ],
   "source": [
    "#Holy cow, 96 rows are missing number of passengers. Is there a chance maybe they are delivering food?\n",
    "#Let's wait on that decision for now. How about the trips with zero distance?\n",
    "df3[df3['distance'] == 0].shape"
   ]
  },
  {
   "cell_type": "markdown",
   "metadata": {},
   "source": [
    "Fewer trips with zero distance, and this is an easy fix. We have pickup and dropoff location, so we can impute the values based on other trips with the same from/to locations. In order to do a good job of this, we want to get more granular with the location, so we will use zone instead of borough. "
   ]
  },
  {
   "cell_type": "code",
   "execution_count": 20,
   "metadata": {},
   "outputs": [
    {
     "data": {
      "text/plain": [
       "pickup_zone                     dropoff_zone                    distance\n",
       "Astoria                         Astoria                         0.0         2\n",
       "Bushwick South                  Bushwick South                  0.0         1\n",
       "Clinton East                    Clinton East                    0.0         1\n",
       "Cobble Hill                     Cobble Hill                     0.0         1\n",
       "Downtown Brooklyn/MetroTech     Downtown Brooklyn/MetroTech     0.0         1\n",
       "Dyker Heights                   Dyker Heights                   0.0         1\n",
       "East Chelsea                    East Chelsea                    0.0         1\n",
       "Financial District North        World Trade Center              0.0         1\n",
       "Flatbush/Ditmas Park            Flatbush/Ditmas Park            0.0         1\n",
       "Fort Greene                     Fort Greene                     0.0         1\n",
       "Garment District                Garment District                0.0         1\n",
       "Hudson Sq                       Hudson Sq                       0.0         1\n",
       "Hunts Point                     Hunts Point                     0.0         1\n",
       "JFK Airport                     JFK Airport                     0.0         3\n",
       "Lenox Hill East                 Lenox Hill East                 0.0         2\n",
       "Lincoln Square East             Lincoln Square East             0.0         1\n",
       "Long Island City/Hunters Point  Long Island City/Hunters Point  0.0         2\n",
       "Manhattanville                  Manhattanville                  0.0         1\n",
       "Midtown Center                  Midtown Center                  0.0         1\n",
       "Midtown South                   Midtown South                   0.0         1\n",
       "Parkchester                     Flatbush/Ditmas Park            0.0         1\n",
       "Queensbridge/Ravenswood         Queensbridge/Ravenswood         0.0         4\n",
       "Rosedale                        Rosedale                        0.0         1\n",
       "Seaport                         Battery Park City               0.0         1\n",
       "Steinway                        Sunnyside                       0.0         1\n",
       "Times Sq/Theatre District       Times Sq/Theatre District       0.0         1\n",
       "TriBeCa/Civic Center            TriBeCa/Civic Center            0.0         1\n",
       "West Village                    Upper East Side South           0.0         1\n",
       "Name: distance, dtype: int64"
      ]
     },
     "execution_count": 20,
     "metadata": {},
     "output_type": "execute_result"
    }
   ],
   "source": [
    "df3_zeroDist = df3[df3['distance'] == 0]\n",
    "df3_zeroDist.groupby(['pickup_zone', 'dropoff_zone'])['distance'].value_counts()"
   ]
  },
  {
   "cell_type": "markdown",
   "metadata": {},
   "source": [
    "Biggest issue here is that we have very few duplicate trips with zero distance, so we really have nothing to impute from. We should just drop those observations in this case. "
   ]
  },
  {
   "cell_type": "code",
   "execution_count": 21,
   "metadata": {},
   "outputs": [
    {
     "data": {
      "text/html": [
       "<div>\n",
       "<style scoped>\n",
       "    .dataframe tbody tr th:only-of-type {\n",
       "        vertical-align: middle;\n",
       "    }\n",
       "\n",
       "    .dataframe tbody tr th {\n",
       "        vertical-align: top;\n",
       "    }\n",
       "\n",
       "    .dataframe thead th {\n",
       "        text-align: right;\n",
       "    }\n",
       "</style>\n",
       "<table border=\"1\" class=\"dataframe\">\n",
       "  <thead>\n",
       "    <tr style=\"text-align: right;\">\n",
       "      <th></th>\n",
       "      <th>pickup</th>\n",
       "      <th>dropoff</th>\n",
       "      <th>passengers</th>\n",
       "      <th>distance</th>\n",
       "      <th>fare</th>\n",
       "      <th>tip</th>\n",
       "      <th>tolls</th>\n",
       "      <th>total</th>\n",
       "      <th>color</th>\n",
       "      <th>payment</th>\n",
       "      <th>pickup_zone</th>\n",
       "      <th>dropoff_zone</th>\n",
       "      <th>pickup_borough</th>\n",
       "      <th>dropoff_borough</th>\n",
       "    </tr>\n",
       "  </thead>\n",
       "  <tbody>\n",
       "    <tr>\n",
       "      <th>0</th>\n",
       "      <td>2019-03-23 20:21:09</td>\n",
       "      <td>2019-03-23 20:27:24</td>\n",
       "      <td>1</td>\n",
       "      <td>1.60</td>\n",
       "      <td>7.0</td>\n",
       "      <td>2.15</td>\n",
       "      <td>0.0</td>\n",
       "      <td>12.95</td>\n",
       "      <td>yellow</td>\n",
       "      <td>credit card</td>\n",
       "      <td>Lenox Hill West</td>\n",
       "      <td>UN/Turtle Bay South</td>\n",
       "      <td>Manhattan</td>\n",
       "      <td>Manhattan</td>\n",
       "    </tr>\n",
       "    <tr>\n",
       "      <th>1</th>\n",
       "      <td>2019-03-04 16:11:55</td>\n",
       "      <td>2019-03-04 16:19:00</td>\n",
       "      <td>1</td>\n",
       "      <td>0.79</td>\n",
       "      <td>5.0</td>\n",
       "      <td>0.00</td>\n",
       "      <td>0.0</td>\n",
       "      <td>9.30</td>\n",
       "      <td>yellow</td>\n",
       "      <td>cash</td>\n",
       "      <td>Upper West Side South</td>\n",
       "      <td>Upper West Side South</td>\n",
       "      <td>Manhattan</td>\n",
       "      <td>Manhattan</td>\n",
       "    </tr>\n",
       "    <tr>\n",
       "      <th>2</th>\n",
       "      <td>2019-03-27 17:53:01</td>\n",
       "      <td>2019-03-27 18:00:25</td>\n",
       "      <td>1</td>\n",
       "      <td>1.37</td>\n",
       "      <td>7.5</td>\n",
       "      <td>2.36</td>\n",
       "      <td>0.0</td>\n",
       "      <td>14.16</td>\n",
       "      <td>yellow</td>\n",
       "      <td>credit card</td>\n",
       "      <td>Alphabet City</td>\n",
       "      <td>West Village</td>\n",
       "      <td>Manhattan</td>\n",
       "      <td>Manhattan</td>\n",
       "    </tr>\n",
       "    <tr>\n",
       "      <th>3</th>\n",
       "      <td>2019-03-10 01:23:59</td>\n",
       "      <td>2019-03-10 01:49:51</td>\n",
       "      <td>1</td>\n",
       "      <td>7.70</td>\n",
       "      <td>27.0</td>\n",
       "      <td>6.15</td>\n",
       "      <td>0.0</td>\n",
       "      <td>36.95</td>\n",
       "      <td>yellow</td>\n",
       "      <td>credit card</td>\n",
       "      <td>Hudson Sq</td>\n",
       "      <td>Yorkville West</td>\n",
       "      <td>Manhattan</td>\n",
       "      <td>Manhattan</td>\n",
       "    </tr>\n",
       "    <tr>\n",
       "      <th>4</th>\n",
       "      <td>2019-03-30 13:27:42</td>\n",
       "      <td>2019-03-30 13:37:14</td>\n",
       "      <td>3</td>\n",
       "      <td>2.16</td>\n",
       "      <td>9.0</td>\n",
       "      <td>1.10</td>\n",
       "      <td>0.0</td>\n",
       "      <td>13.40</td>\n",
       "      <td>yellow</td>\n",
       "      <td>credit card</td>\n",
       "      <td>Midtown East</td>\n",
       "      <td>Yorkville West</td>\n",
       "      <td>Manhattan</td>\n",
       "      <td>Manhattan</td>\n",
       "    </tr>\n",
       "  </tbody>\n",
       "</table>\n",
       "</div>"
      ],
      "text/plain": [
       "                pickup              dropoff  passengers  distance  fare   tip  \\\n",
       "0  2019-03-23 20:21:09  2019-03-23 20:27:24           1      1.60   7.0  2.15   \n",
       "1  2019-03-04 16:11:55  2019-03-04 16:19:00           1      0.79   5.0  0.00   \n",
       "2  2019-03-27 17:53:01  2019-03-27 18:00:25           1      1.37   7.5  2.36   \n",
       "3  2019-03-10 01:23:59  2019-03-10 01:49:51           1      7.70  27.0  6.15   \n",
       "4  2019-03-30 13:27:42  2019-03-30 13:37:14           3      2.16   9.0  1.10   \n",
       "\n",
       "   tolls  total   color      payment            pickup_zone  \\\n",
       "0    0.0  12.95  yellow  credit card        Lenox Hill West   \n",
       "1    0.0   9.30  yellow         cash  Upper West Side South   \n",
       "2    0.0  14.16  yellow  credit card          Alphabet City   \n",
       "3    0.0  36.95  yellow  credit card              Hudson Sq   \n",
       "4    0.0  13.40  yellow  credit card           Midtown East   \n",
       "\n",
       "            dropoff_zone pickup_borough dropoff_borough  \n",
       "0    UN/Turtle Bay South      Manhattan       Manhattan  \n",
       "1  Upper West Side South      Manhattan       Manhattan  \n",
       "2           West Village      Manhattan       Manhattan  \n",
       "3         Yorkville West      Manhattan       Manhattan  \n",
       "4         Yorkville West      Manhattan       Manhattan  "
      ]
     },
     "execution_count": 21,
     "metadata": {},
     "output_type": "execute_result"
    }
   ],
   "source": [
    "df4 = df3[(df3['distance'] != 0) & (df3['passengers'] != 0)]\n",
    "df4.head()"
   ]
  },
  {
   "cell_type": "markdown",
   "metadata": {},
   "source": [
    "Now, let's break out the year, month, day, and hour into separate columns so we can do other kinds of analysis related to time."
   ]
  },
  {
   "cell_type": "code",
   "execution_count": 22,
   "metadata": {},
   "outputs": [
    {
     "data": {
      "text/plain": [
       "['passengers',\n",
       " 'distance',\n",
       " 'fare',\n",
       " 'tip',\n",
       " 'tolls',\n",
       " 'total',\n",
       " 'color',\n",
       " 'payment',\n",
       " 'pickup_zone',\n",
       " 'dropoff_zone',\n",
       " 'pickup_borough',\n",
       " 'dropoff_borough',\n",
       " 'Pday',\n",
       " 'Pmonth',\n",
       " 'Pyear',\n",
       " 'Phour',\n",
       " 'Dday',\n",
       " 'Dmonth',\n",
       " 'Dyear',\n",
       " 'Dhour']"
      ]
     },
     "execution_count": 22,
     "metadata": {},
     "output_type": "execute_result"
    }
   ],
   "source": [
    "import datetime as dt\n",
    "from datetime import date\n",
    "\n",
    "df4['pickup'] = pd.to_datetime(df4['pickup'], format = '%Y-%m-%d %H:%M:%S')\n",
    "df4['Pday'] = df4['pickup'].dt.weekday\n",
    "df4['Pmonth'] = df4['pickup'].dt.month\n",
    "df4['Pyear'] = df4['pickup'].dt.year\n",
    "df4['Phour'] = df4['pickup'].dt.hour\n",
    "df4['dropoff'] = pd.to_datetime(df4['dropoff'], format = '%Y-%m-%d %H:%M:%S')\n",
    "df4['Dday'] = df4['dropoff'].dt.weekday\n",
    "df4['Dmonth'] = df4['dropoff'].dt.month\n",
    "df4['Dyear'] = df4['dropoff'].dt.year\n",
    "df4['Dhour'] = df4['dropoff'].dt.hour\n",
    "df4.drop(['pickup', 'dropoff'], inplace = True, axis = 1)\n",
    "\n",
    "list(df4.columns)\n",
    "#df4.head()"
   ]
  },
  {
   "cell_type": "markdown",
   "metadata": {},
   "source": [
    "Quick final look at summary stats to make sure everything looks good."
   ]
  },
  {
   "cell_type": "code",
   "execution_count": 23,
   "metadata": {},
   "outputs": [
    {
     "data": {
      "text/html": [
       "<div>\n",
       "<style scoped>\n",
       "    .dataframe tbody tr th:only-of-type {\n",
       "        vertical-align: middle;\n",
       "    }\n",
       "\n",
       "    .dataframe tbody tr th {\n",
       "        vertical-align: top;\n",
       "    }\n",
       "\n",
       "    .dataframe thead th {\n",
       "        text-align: right;\n",
       "    }\n",
       "</style>\n",
       "<table border=\"1\" class=\"dataframe\">\n",
       "  <thead>\n",
       "    <tr style=\"text-align: right;\">\n",
       "      <th></th>\n",
       "      <th>passengers</th>\n",
       "      <th>distance</th>\n",
       "      <th>fare</th>\n",
       "      <th>tip</th>\n",
       "      <th>tolls</th>\n",
       "      <th>total</th>\n",
       "      <th>Pday</th>\n",
       "      <th>Pmonth</th>\n",
       "      <th>Pyear</th>\n",
       "      <th>Phour</th>\n",
       "      <th>Dday</th>\n",
       "      <th>Dmonth</th>\n",
       "      <th>Dyear</th>\n",
       "      <th>Dhour</th>\n",
       "    </tr>\n",
       "  </thead>\n",
       "  <tbody>\n",
       "    <tr>\n",
       "      <th>count</th>\n",
       "      <td>6252.000000</td>\n",
       "      <td>6252.000000</td>\n",
       "      <td>6252.000000</td>\n",
       "      <td>6252.000000</td>\n",
       "      <td>6252.000000</td>\n",
       "      <td>6252.000000</td>\n",
       "      <td>6252.000000</td>\n",
       "      <td>6252.000000</td>\n",
       "      <td>6252.0</td>\n",
       "      <td>6252.000000</td>\n",
       "      <td>6252.000000</td>\n",
       "      <td>6252.000000</td>\n",
       "      <td>6252.0</td>\n",
       "      <td>6252.000000</td>\n",
       "    </tr>\n",
       "    <tr>\n",
       "      <th>mean</th>\n",
       "      <td>1.566219</td>\n",
       "      <td>3.011766</td>\n",
       "      <td>12.875187</td>\n",
       "      <td>1.956750</td>\n",
       "      <td>0.309623</td>\n",
       "      <td>18.279819</td>\n",
       "      <td>3.164427</td>\n",
       "      <td>2.999840</td>\n",
       "      <td>2019.0</td>\n",
       "      <td>13.881638</td>\n",
       "      <td>3.166827</td>\n",
       "      <td>3.000000</td>\n",
       "      <td>2019.0</td>\n",
       "      <td>13.921465</td>\n",
       "    </tr>\n",
       "    <tr>\n",
       "      <th>std</th>\n",
       "      <td>1.201209</td>\n",
       "      <td>3.722938</td>\n",
       "      <td>10.656627</td>\n",
       "      <td>2.346348</td>\n",
       "      <td>1.358912</td>\n",
       "      <td>12.853383</td>\n",
       "      <td>1.912791</td>\n",
       "      <td>0.012647</td>\n",
       "      <td>0.0</td>\n",
       "      <td>6.068853</td>\n",
       "      <td>1.915300</td>\n",
       "      <td>0.017887</td>\n",
       "      <td>0.0</td>\n",
       "      <td>6.144561</td>\n",
       "    </tr>\n",
       "    <tr>\n",
       "      <th>min</th>\n",
       "      <td>1.000000</td>\n",
       "      <td>0.010000</td>\n",
       "      <td>1.000000</td>\n",
       "      <td>0.000000</td>\n",
       "      <td>0.000000</td>\n",
       "      <td>1.300000</td>\n",
       "      <td>0.000000</td>\n",
       "      <td>2.000000</td>\n",
       "      <td>2019.0</td>\n",
       "      <td>0.000000</td>\n",
       "      <td>0.000000</td>\n",
       "      <td>2.000000</td>\n",
       "      <td>2019.0</td>\n",
       "      <td>0.000000</td>\n",
       "    </tr>\n",
       "    <tr>\n",
       "      <th>25%</th>\n",
       "      <td>1.000000</td>\n",
       "      <td>1.000000</td>\n",
       "      <td>6.500000</td>\n",
       "      <td>0.000000</td>\n",
       "      <td>0.000000</td>\n",
       "      <td>10.800000</td>\n",
       "      <td>2.000000</td>\n",
       "      <td>3.000000</td>\n",
       "      <td>2019.0</td>\n",
       "      <td>10.000000</td>\n",
       "      <td>2.000000</td>\n",
       "      <td>3.000000</td>\n",
       "      <td>2019.0</td>\n",
       "      <td>10.000000</td>\n",
       "    </tr>\n",
       "    <tr>\n",
       "      <th>50%</th>\n",
       "      <td>1.000000</td>\n",
       "      <td>1.660000</td>\n",
       "      <td>9.500000</td>\n",
       "      <td>1.700000</td>\n",
       "      <td>0.000000</td>\n",
       "      <td>14.160000</td>\n",
       "      <td>3.000000</td>\n",
       "      <td>3.000000</td>\n",
       "      <td>2019.0</td>\n",
       "      <td>15.000000</td>\n",
       "      <td>3.000000</td>\n",
       "      <td>3.000000</td>\n",
       "      <td>2019.0</td>\n",
       "      <td>15.000000</td>\n",
       "    </tr>\n",
       "    <tr>\n",
       "      <th>75%</th>\n",
       "      <td>2.000000</td>\n",
       "      <td>3.220000</td>\n",
       "      <td>15.000000</td>\n",
       "      <td>2.760000</td>\n",
       "      <td>0.000000</td>\n",
       "      <td>20.300000</td>\n",
       "      <td>5.000000</td>\n",
       "      <td>3.000000</td>\n",
       "      <td>2019.0</td>\n",
       "      <td>19.000000</td>\n",
       "      <td>5.000000</td>\n",
       "      <td>3.000000</td>\n",
       "      <td>2019.0</td>\n",
       "      <td>19.000000</td>\n",
       "    </tr>\n",
       "    <tr>\n",
       "      <th>max</th>\n",
       "      <td>6.000000</td>\n",
       "      <td>36.700000</td>\n",
       "      <td>150.000000</td>\n",
       "      <td>23.190000</td>\n",
       "      <td>24.020000</td>\n",
       "      <td>174.820000</td>\n",
       "      <td>6.000000</td>\n",
       "      <td>3.000000</td>\n",
       "      <td>2019.0</td>\n",
       "      <td>23.000000</td>\n",
       "      <td>6.000000</td>\n",
       "      <td>4.000000</td>\n",
       "      <td>2019.0</td>\n",
       "      <td>23.000000</td>\n",
       "    </tr>\n",
       "  </tbody>\n",
       "</table>\n",
       "</div>"
      ],
      "text/plain": [
       "        passengers     distance         fare          tip        tolls  \\\n",
       "count  6252.000000  6252.000000  6252.000000  6252.000000  6252.000000   \n",
       "mean      1.566219     3.011766    12.875187     1.956750     0.309623   \n",
       "std       1.201209     3.722938    10.656627     2.346348     1.358912   \n",
       "min       1.000000     0.010000     1.000000     0.000000     0.000000   \n",
       "25%       1.000000     1.000000     6.500000     0.000000     0.000000   \n",
       "50%       1.000000     1.660000     9.500000     1.700000     0.000000   \n",
       "75%       2.000000     3.220000    15.000000     2.760000     0.000000   \n",
       "max       6.000000    36.700000   150.000000    23.190000    24.020000   \n",
       "\n",
       "             total         Pday       Pmonth   Pyear        Phour  \\\n",
       "count  6252.000000  6252.000000  6252.000000  6252.0  6252.000000   \n",
       "mean     18.279819     3.164427     2.999840  2019.0    13.881638   \n",
       "std      12.853383     1.912791     0.012647     0.0     6.068853   \n",
       "min       1.300000     0.000000     2.000000  2019.0     0.000000   \n",
       "25%      10.800000     2.000000     3.000000  2019.0    10.000000   \n",
       "50%      14.160000     3.000000     3.000000  2019.0    15.000000   \n",
       "75%      20.300000     5.000000     3.000000  2019.0    19.000000   \n",
       "max     174.820000     6.000000     3.000000  2019.0    23.000000   \n",
       "\n",
       "              Dday       Dmonth   Dyear        Dhour  \n",
       "count  6252.000000  6252.000000  6252.0  6252.000000  \n",
       "mean      3.166827     3.000000  2019.0    13.921465  \n",
       "std       1.915300     0.017887     0.0     6.144561  \n",
       "min       0.000000     2.000000  2019.0     0.000000  \n",
       "25%       2.000000     3.000000  2019.0    10.000000  \n",
       "50%       3.000000     3.000000  2019.0    15.000000  \n",
       "75%       5.000000     3.000000  2019.0    19.000000  \n",
       "max       6.000000     4.000000  2019.0    23.000000  "
      ]
     },
     "execution_count": 23,
     "metadata": {},
     "output_type": "execute_result"
    }
   ],
   "source": [
    "df4.describe()"
   ]
  },
  {
   "cell_type": "markdown",
   "metadata": {},
   "source": [
    "Our new summary stats include our new columns of year, month, day, and hour. A couple questions: the max dropoff month is 4, but the max pickup month is 3. Entirely possible if, let's say, the person was picked up at 11:59 pm March 31 and dropped off 12:00 am on April 1st. \n",
    "\n",
    "Another thing to note: we are only working with about two months of data here, so analysis on month is probably not useful. \n",
    "\n",
    "Let's take a look at the distribution of the data, to see if it is normal or skewed. We need to know for a variety of reasons."
   ]
  },
  {
   "cell_type": "code",
   "execution_count": 24,
   "metadata": {
    "scrolled": true
   },
   "outputs": [
    {
     "data": {
      "text/plain": [
       "''"
      ]
     },
     "execution_count": 24,
     "metadata": {},
     "output_type": "execute_result"
    },
    {
     "data": {
      "image/png": "[encoded data removed]",
      "text/plain": [
       "<Figure size 2000x1000 with 6 Axes>"
      ]
     },
     "metadata": {},
     "output_type": "display_data"
    }
   ],
   "source": [
    "from matplotlib import pyplot as plt\n",
    "\n",
    "f = plt.figure(figsize=(20,10))\n",
    "f.tight_layout()\n",
    "\n",
    "# Subplot 1\n",
    "plt.subplot(2, 3, 1)\n",
    "feature = 'distance'\n",
    "hist = sns.histplot(data=df4, x=feature, label=feature, kde=True)\n",
    "plt.title(feature, fontsize=8)\n",
    "plt.axis('off')\n",
    "\n",
    "# Subplot 2\n",
    "plt.subplot(2, 3, 2)\n",
    "feature = 'fare'\n",
    "hist = sns.histplot(data=df4, x=feature, label=feature, kde=True)\n",
    "plt.title(feature, fontsize=8)\n",
    "plt.axis('off')\n",
    "\n",
    "# Subplot 3\n",
    "plt.subplot(2, 3, 3)\n",
    "feature = 'tip'\n",
    "hist = sns.histplot(data=df4, x=feature, label=feature, kde=True)\n",
    "plt.title(feature, fontsize=8)\n",
    "plt.axis('off')\n",
    "\n",
    "# Subplot 4\n",
    "plt.subplot(2, 3, 4)\n",
    "feature = 'tolls'\n",
    "hist = sns.histplot(data=df4, x=feature, label=feature, kde=True)\n",
    "plt.title(feature, fontsize=8)\n",
    "plt.axis('off')\n",
    "\n",
    "# Subplot 5\n",
    "plt.subplot(2, 3, 5)\n",
    "feature = 'Phour'\n",
    "hist = sns.histplot(data=df4, x=feature, label=feature, kde=True)\n",
    "plt.title(feature, fontsize=8)\n",
    "plt.axis('off')\n",
    "\n",
    "# Subplot 6\n",
    "plt.subplot(2, 3, 6)\n",
    "feature = 'Dhour'\n",
    "hist = sns.histplot(data=df4, x=feature, label=feature, kde=True)\n",
    "plt.title(feature, fontsize=8)\n",
    "plt.axis('off')\n",
    ";\n"
   ]
  },
  {
   "cell_type": "markdown",
   "metadata": {},
   "source": [
    "As we step through the histograms above, most of the features are not normally distributed. Due to that, and the fact that we're comparing features with different scales, we would benefit from normalizing the data in the columns. We will do that towards the end of this notebook. First, let's concatenate pickup and dropoff boroughs so each observation belongs to a full trip."
   ]
  },
  {
   "cell_type": "code",
   "execution_count": 25,
   "metadata": {},
   "outputs": [
    {
     "data": {
      "text/html": [
       "<div>\n",
       "<style scoped>\n",
       "    .dataframe tbody tr th:only-of-type {\n",
       "        vertical-align: middle;\n",
       "    }\n",
       "\n",
       "    .dataframe tbody tr th {\n",
       "        vertical-align: top;\n",
       "    }\n",
       "\n",
       "    .dataframe thead th {\n",
       "        text-align: right;\n",
       "    }\n",
       "</style>\n",
       "<table border=\"1\" class=\"dataframe\">\n",
       "  <thead>\n",
       "    <tr style=\"text-align: right;\">\n",
       "      <th></th>\n",
       "      <th>passengers</th>\n",
       "      <th>distance</th>\n",
       "      <th>fare</th>\n",
       "      <th>tip</th>\n",
       "      <th>tolls</th>\n",
       "      <th>total</th>\n",
       "      <th>color</th>\n",
       "      <th>payment</th>\n",
       "      <th>pickup_zone</th>\n",
       "      <th>dropoff_zone</th>\n",
       "      <th>...</th>\n",
       "      <th>dropoff_borough</th>\n",
       "      <th>Pday</th>\n",
       "      <th>Pmonth</th>\n",
       "      <th>Pyear</th>\n",
       "      <th>Phour</th>\n",
       "      <th>Dday</th>\n",
       "      <th>Dmonth</th>\n",
       "      <th>Dyear</th>\n",
       "      <th>Dhour</th>\n",
       "      <th>trip</th>\n",
       "    </tr>\n",
       "  </thead>\n",
       "  <tbody>\n",
       "    <tr>\n",
       "      <th>0</th>\n",
       "      <td>1</td>\n",
       "      <td>1.60</td>\n",
       "      <td>7.0</td>\n",
       "      <td>2.15</td>\n",
       "      <td>0.0</td>\n",
       "      <td>12.95</td>\n",
       "      <td>yellow</td>\n",
       "      <td>credit card</td>\n",
       "      <td>Lenox Hill West</td>\n",
       "      <td>UN/Turtle Bay South</td>\n",
       "      <td>...</td>\n",
       "      <td>Manhattan</td>\n",
       "      <td>5</td>\n",
       "      <td>3</td>\n",
       "      <td>2019</td>\n",
       "      <td>20</td>\n",
       "      <td>5</td>\n",
       "      <td>3</td>\n",
       "      <td>2019</td>\n",
       "      <td>20</td>\n",
       "      <td>ManhattanManhattan</td>\n",
       "    </tr>\n",
       "    <tr>\n",
       "      <th>1</th>\n",
       "      <td>1</td>\n",
       "      <td>0.79</td>\n",
       "      <td>5.0</td>\n",
       "      <td>0.00</td>\n",
       "      <td>0.0</td>\n",
       "      <td>9.30</td>\n",
       "      <td>yellow</td>\n",
       "      <td>cash</td>\n",
       "      <td>Upper West Side South</td>\n",
       "      <td>Upper West Side South</td>\n",
       "      <td>...</td>\n",
       "      <td>Manhattan</td>\n",
       "      <td>0</td>\n",
       "      <td>3</td>\n",
       "      <td>2019</td>\n",
       "      <td>16</td>\n",
       "      <td>0</td>\n",
       "      <td>3</td>\n",
       "      <td>2019</td>\n",
       "      <td>16</td>\n",
       "      <td>ManhattanManhattan</td>\n",
       "    </tr>\n",
       "    <tr>\n",
       "      <th>2</th>\n",
       "      <td>1</td>\n",
       "      <td>1.37</td>\n",
       "      <td>7.5</td>\n",
       "      <td>2.36</td>\n",
       "      <td>0.0</td>\n",
       "      <td>14.16</td>\n",
       "      <td>yellow</td>\n",
       "      <td>credit card</td>\n",
       "      <td>Alphabet City</td>\n",
       "      <td>West Village</td>\n",
       "      <td>...</td>\n",
       "      <td>Manhattan</td>\n",
       "      <td>2</td>\n",
       "      <td>3</td>\n",
       "      <td>2019</td>\n",
       "      <td>17</td>\n",
       "      <td>2</td>\n",
       "      <td>3</td>\n",
       "      <td>2019</td>\n",
       "      <td>18</td>\n",
       "      <td>ManhattanManhattan</td>\n",
       "    </tr>\n",
       "    <tr>\n",
       "      <th>3</th>\n",
       "      <td>1</td>\n",
       "      <td>7.70</td>\n",
       "      <td>27.0</td>\n",
       "      <td>6.15</td>\n",
       "      <td>0.0</td>\n",
       "      <td>36.95</td>\n",
       "      <td>yellow</td>\n",
       "      <td>credit card</td>\n",
       "      <td>Hudson Sq</td>\n",
       "      <td>Yorkville West</td>\n",
       "      <td>...</td>\n",
       "      <td>Manhattan</td>\n",
       "      <td>6</td>\n",
       "      <td>3</td>\n",
       "      <td>2019</td>\n",
       "      <td>1</td>\n",
       "      <td>6</td>\n",
       "      <td>3</td>\n",
       "      <td>2019</td>\n",
       "      <td>1</td>\n",
       "      <td>ManhattanManhattan</td>\n",
       "    </tr>\n",
       "    <tr>\n",
       "      <th>4</th>\n",
       "      <td>3</td>\n",
       "      <td>2.16</td>\n",
       "      <td>9.0</td>\n",
       "      <td>1.10</td>\n",
       "      <td>0.0</td>\n",
       "      <td>13.40</td>\n",
       "      <td>yellow</td>\n",
       "      <td>credit card</td>\n",
       "      <td>Midtown East</td>\n",
       "      <td>Yorkville West</td>\n",
       "      <td>...</td>\n",
       "      <td>Manhattan</td>\n",
       "      <td>5</td>\n",
       "      <td>3</td>\n",
       "      <td>2019</td>\n",
       "      <td>13</td>\n",
       "      <td>5</td>\n",
       "      <td>3</td>\n",
       "      <td>2019</td>\n",
       "      <td>13</td>\n",
       "      <td>ManhattanManhattan</td>\n",
       "    </tr>\n",
       "  </tbody>\n",
       "</table>\n",
       "<p>5 rows × 21 columns</p>\n",
       "</div>"
      ],
      "text/plain": [
       "   passengers  distance  fare   tip  tolls  total   color      payment  \\\n",
       "0           1      1.60   7.0  2.15    0.0  12.95  yellow  credit card   \n",
       "1           1      0.79   5.0  0.00    0.0   9.30  yellow         cash   \n",
       "2           1      1.37   7.5  2.36    0.0  14.16  yellow  credit card   \n",
       "3           1      7.70  27.0  6.15    0.0  36.95  yellow  credit card   \n",
       "4           3      2.16   9.0  1.10    0.0  13.40  yellow  credit card   \n",
       "\n",
       "             pickup_zone           dropoff_zone  ... dropoff_borough Pday  \\\n",
       "0        Lenox Hill West    UN/Turtle Bay South  ...       Manhattan    5   \n",
       "1  Upper West Side South  Upper West Side South  ...       Manhattan    0   \n",
       "2          Alphabet City           West Village  ...       Manhattan    2   \n",
       "3              Hudson Sq         Yorkville West  ...       Manhattan    6   \n",
       "4           Midtown East         Yorkville West  ...       Manhattan    5   \n",
       "\n",
       "   Pmonth  Pyear  Phour  Dday  Dmonth  Dyear  Dhour                trip  \n",
       "0       3   2019     20     5       3   2019     20  ManhattanManhattan  \n",
       "1       3   2019     16     0       3   2019     16  ManhattanManhattan  \n",
       "2       3   2019     17     2       3   2019     18  ManhattanManhattan  \n",
       "3       3   2019      1     6       3   2019      1  ManhattanManhattan  \n",
       "4       3   2019     13     5       3   2019     13  ManhattanManhattan  \n",
       "\n",
       "[5 rows x 21 columns]"
      ]
     },
     "execution_count": 25,
     "metadata": {},
     "output_type": "execute_result"
    }
   ],
   "source": [
    "df4['trip'] = df4['pickup_borough'] + df4['dropoff_borough']\n",
    "df4.head()"
   ]
  },
  {
   "cell_type": "markdown",
   "metadata": {},
   "source": [
    "Final step here: we convert the rest of the categorical columns to numbers to make them machine readable. We won't bother to do this for zones, since there are so many zones."
   ]
  },
  {
   "cell_type": "code",
   "execution_count": 26,
   "metadata": {},
   "outputs": [
    {
     "data": {
      "text/html": [
       "<div>\n",
       "<style scoped>\n",
       "    .dataframe tbody tr th:only-of-type {\n",
       "        vertical-align: middle;\n",
       "    }\n",
       "\n",
       "    .dataframe tbody tr th {\n",
       "        vertical-align: top;\n",
       "    }\n",
       "\n",
       "    .dataframe thead th {\n",
       "        text-align: right;\n",
       "    }\n",
       "</style>\n",
       "<table border=\"1\" class=\"dataframe\">\n",
       "  <thead>\n",
       "    <tr style=\"text-align: right;\">\n",
       "      <th></th>\n",
       "      <th>color_yellow</th>\n",
       "      <th>payment_credit card</th>\n",
       "      <th>trip_BronxBronx</th>\n",
       "      <th>trip_BronxBrooklyn</th>\n",
       "      <th>trip_BronxManhattan</th>\n",
       "      <th>trip_BronxQueens</th>\n",
       "      <th>trip_BrooklynBronx</th>\n",
       "      <th>trip_BrooklynBrooklyn</th>\n",
       "      <th>trip_BrooklynManhattan</th>\n",
       "      <th>trip_BrooklynQueens</th>\n",
       "      <th>...</th>\n",
       "      <th>tolls</th>\n",
       "      <th>total</th>\n",
       "      <th>Pday</th>\n",
       "      <th>Pmonth</th>\n",
       "      <th>Pyear</th>\n",
       "      <th>Phour</th>\n",
       "      <th>Dday</th>\n",
       "      <th>Dmonth</th>\n",
       "      <th>Dyear</th>\n",
       "      <th>Dhour</th>\n",
       "    </tr>\n",
       "  </thead>\n",
       "  <tbody>\n",
       "    <tr>\n",
       "      <th>0</th>\n",
       "      <td>1.0</td>\n",
       "      <td>1.0</td>\n",
       "      <td>0.0</td>\n",
       "      <td>0.0</td>\n",
       "      <td>0.0</td>\n",
       "      <td>0.0</td>\n",
       "      <td>0.0</td>\n",
       "      <td>0.0</td>\n",
       "      <td>0.0</td>\n",
       "      <td>0.0</td>\n",
       "      <td>...</td>\n",
       "      <td>0.0</td>\n",
       "      <td>12.95</td>\n",
       "      <td>5</td>\n",
       "      <td>3</td>\n",
       "      <td>2019</td>\n",
       "      <td>20</td>\n",
       "      <td>5</td>\n",
       "      <td>3</td>\n",
       "      <td>2019</td>\n",
       "      <td>20</td>\n",
       "    </tr>\n",
       "    <tr>\n",
       "      <th>1</th>\n",
       "      <td>1.0</td>\n",
       "      <td>0.0</td>\n",
       "      <td>0.0</td>\n",
       "      <td>0.0</td>\n",
       "      <td>0.0</td>\n",
       "      <td>0.0</td>\n",
       "      <td>0.0</td>\n",
       "      <td>0.0</td>\n",
       "      <td>0.0</td>\n",
       "      <td>0.0</td>\n",
       "      <td>...</td>\n",
       "      <td>0.0</td>\n",
       "      <td>9.30</td>\n",
       "      <td>0</td>\n",
       "      <td>3</td>\n",
       "      <td>2019</td>\n",
       "      <td>16</td>\n",
       "      <td>0</td>\n",
       "      <td>3</td>\n",
       "      <td>2019</td>\n",
       "      <td>16</td>\n",
       "    </tr>\n",
       "    <tr>\n",
       "      <th>2</th>\n",
       "      <td>1.0</td>\n",
       "      <td>1.0</td>\n",
       "      <td>0.0</td>\n",
       "      <td>0.0</td>\n",
       "      <td>0.0</td>\n",
       "      <td>0.0</td>\n",
       "      <td>0.0</td>\n",
       "      <td>0.0</td>\n",
       "      <td>0.0</td>\n",
       "      <td>0.0</td>\n",
       "      <td>...</td>\n",
       "      <td>0.0</td>\n",
       "      <td>14.16</td>\n",
       "      <td>2</td>\n",
       "      <td>3</td>\n",
       "      <td>2019</td>\n",
       "      <td>17</td>\n",
       "      <td>2</td>\n",
       "      <td>3</td>\n",
       "      <td>2019</td>\n",
       "      <td>18</td>\n",
       "    </tr>\n",
       "    <tr>\n",
       "      <th>3</th>\n",
       "      <td>1.0</td>\n",
       "      <td>1.0</td>\n",
       "      <td>0.0</td>\n",
       "      <td>0.0</td>\n",
       "      <td>0.0</td>\n",
       "      <td>0.0</td>\n",
       "      <td>0.0</td>\n",
       "      <td>0.0</td>\n",
       "      <td>0.0</td>\n",
       "      <td>0.0</td>\n",
       "      <td>...</td>\n",
       "      <td>0.0</td>\n",
       "      <td>36.95</td>\n",
       "      <td>6</td>\n",
       "      <td>3</td>\n",
       "      <td>2019</td>\n",
       "      <td>1</td>\n",
       "      <td>6</td>\n",
       "      <td>3</td>\n",
       "      <td>2019</td>\n",
       "      <td>1</td>\n",
       "    </tr>\n",
       "    <tr>\n",
       "      <th>4</th>\n",
       "      <td>1.0</td>\n",
       "      <td>1.0</td>\n",
       "      <td>0.0</td>\n",
       "      <td>0.0</td>\n",
       "      <td>0.0</td>\n",
       "      <td>0.0</td>\n",
       "      <td>0.0</td>\n",
       "      <td>0.0</td>\n",
       "      <td>0.0</td>\n",
       "      <td>0.0</td>\n",
       "      <td>...</td>\n",
       "      <td>0.0</td>\n",
       "      <td>13.40</td>\n",
       "      <td>5</td>\n",
       "      <td>3</td>\n",
       "      <td>2019</td>\n",
       "      <td>13</td>\n",
       "      <td>5</td>\n",
       "      <td>3</td>\n",
       "      <td>2019</td>\n",
       "      <td>13</td>\n",
       "    </tr>\n",
       "  </tbody>\n",
       "</table>\n",
       "<p>5 rows × 42 columns</p>\n",
       "</div>"
      ],
      "text/plain": [
       "   color_yellow  payment_credit card  trip_BronxBronx  trip_BronxBrooklyn  \\\n",
       "0           1.0                  1.0              0.0                 0.0   \n",
       "1           1.0                  0.0              0.0                 0.0   \n",
       "2           1.0                  1.0              0.0                 0.0   \n",
       "3           1.0                  1.0              0.0                 0.0   \n",
       "4           1.0                  1.0              0.0                 0.0   \n",
       "\n",
       "   trip_BronxManhattan  trip_BronxQueens  trip_BrooklynBronx  \\\n",
       "0                  0.0               0.0                 0.0   \n",
       "1                  0.0               0.0                 0.0   \n",
       "2                  0.0               0.0                 0.0   \n",
       "3                  0.0               0.0                 0.0   \n",
       "4                  0.0               0.0                 0.0   \n",
       "\n",
       "   trip_BrooklynBrooklyn  trip_BrooklynManhattan  trip_BrooklynQueens  ...  \\\n",
       "0                    0.0                     0.0                  0.0  ...   \n",
       "1                    0.0                     0.0                  0.0  ...   \n",
       "2                    0.0                     0.0                  0.0  ...   \n",
       "3                    0.0                     0.0                  0.0  ...   \n",
       "4                    0.0                     0.0                  0.0  ...   \n",
       "\n",
       "   tolls  total  Pday  Pmonth  Pyear  Phour  Dday  Dmonth  Dyear  Dhour  \n",
       "0    0.0  12.95     5       3   2019     20     5       3   2019     20  \n",
       "1    0.0   9.30     0       3   2019     16     0       3   2019     16  \n",
       "2    0.0  14.16     2       3   2019     17     2       3   2019     18  \n",
       "3    0.0  36.95     6       3   2019      1     6       3   2019      1  \n",
       "4    0.0  13.40     5       3   2019     13     5       3   2019     13  \n",
       "\n",
       "[5 rows x 42 columns]"
      ]
     },
     "execution_count": 26,
     "metadata": {},
     "output_type": "execute_result"
    }
   ],
   "source": [
    "from sklearn.preprocessing import OneHotEncoder \n",
    "cat_encoder = OneHotEncoder() \n",
    "df4_hot = cat_encoder.fit_transform(df4[['color', 'payment', 'trip', 'pickup_borough', 'dropoff_borough']]) \n",
    "enc_names = cat_encoder.get_feature_names_out()\n",
    "df4_hotdf = pd.DataFrame(df4_hot.todense(), columns = enc_names)\n",
    "df4_tr = pd.merge(df4_hotdf, df4.drop(['color', 'payment', 'pickup_borough', 'dropoff_borough', 'pickup_zone', 'dropoff_zone', 'trip'], axis=1), left_index=True, right_index=True)\n",
    "df4_tr.drop(['payment_cash', 'color_green'], inplace = True, axis = 1)\n",
    "\n",
    "df4_tr.columns"
   ]
  },
  {
   "cell_type": "markdown",
   "metadata": {},
   "source": [
    "What columns are we left with?"
   ]
  },
  {
   "cell_type": "code",
   "execution_count": 27,
   "metadata": {},
   "outputs": [
    {
     "data": {
      "text/plain": [
       "Index(['color_yellow', 'payment_credit card', 'trip_BronxBronx',\n",
       "       'trip_BronxBrooklyn', 'trip_BronxManhattan', 'trip_BronxQueens',\n",
       "       'trip_BrooklynBronx', 'trip_BrooklynBrooklyn', 'trip_BrooklynManhattan',\n",
       "       'trip_BrooklynQueens', 'trip_ManhattanBronx', 'trip_ManhattanBrooklyn',\n",
       "       'trip_ManhattanManhattan', 'trip_ManhattanQueens',\n",
       "       'trip_ManhattanStaten Island', 'trip_QueensBronx',\n",
       "       'trip_QueensBrooklyn', 'trip_QueensManhattan', 'trip_QueensQueens',\n",
       "       'pickup_borough_Bronx', 'pickup_borough_Brooklyn',\n",
       "       'pickup_borough_Manhattan', 'pickup_borough_Queens',\n",
       "       'dropoff_borough_Bronx', 'dropoff_borough_Brooklyn',\n",
       "       'dropoff_borough_Manhattan', 'dropoff_borough_Queens',\n",
       "       'dropoff_borough_Staten Island', 'passengers', 'distance', 'fare',\n",
       "       'tip', 'tolls', 'total', 'Pday', 'Pmonth', 'Pyear', 'Phour', 'Dday',\n",
       "       'Dmonth', 'Dyear', 'Dhour'],\n",
       "      dtype='object')"
      ]
     },
     "execution_count": 27,
     "metadata": {},
     "output_type": "execute_result"
    }
   ],
   "source": [
    "df4_tr.columns"
   ]
  },
  {
   "cell_type": "markdown",
   "metadata": {},
   "source": [
    "Since our data is only from a couple months and one year, might as well drop month and year completely. In addition, we'll get rid of dropoff hour because it is correlated with, and less important than, pickup hour."
   ]
  },
  {
   "cell_type": "code",
   "execution_count": 28,
   "metadata": {},
   "outputs": [
    {
     "data": {
      "text/plain": [
       "Index(['color_yellow', 'payment_credit card', 'trip_BronxBronx',\n",
       "       'trip_BronxBrooklyn', 'trip_BronxManhattan', 'trip_BronxQueens',\n",
       "       'trip_BrooklynBronx', 'trip_BrooklynBrooklyn', 'trip_BrooklynManhattan',\n",
       "       'trip_BrooklynQueens', 'trip_ManhattanBronx', 'trip_ManhattanBrooklyn',\n",
       "       'trip_ManhattanManhattan', 'trip_ManhattanQueens',\n",
       "       'trip_ManhattanStaten Island', 'trip_QueensBronx',\n",
       "       'trip_QueensBrooklyn', 'trip_QueensManhattan', 'trip_QueensQueens',\n",
       "       'pickup_borough_Bronx', 'pickup_borough_Brooklyn',\n",
       "       'pickup_borough_Manhattan', 'pickup_borough_Queens',\n",
       "       'dropoff_borough_Bronx', 'dropoff_borough_Brooklyn',\n",
       "       'dropoff_borough_Manhattan', 'dropoff_borough_Queens',\n",
       "       'dropoff_borough_Staten Island', 'passengers', 'distance', 'fare',\n",
       "       'tip', 'tolls', 'total', 'Pday', 'Phour'],\n",
       "      dtype='object')"
      ]
     },
     "execution_count": 28,
     "metadata": {},
     "output_type": "execute_result"
    }
   ],
   "source": [
    "df4_tr.drop(['Pmonth', 'Pyear', 'Dday', 'Dmonth', 'Dyear', 'Dhour'], inplace=True, axis=1)\n",
    "df4_tr.columns"
   ]
  },
  {
   "cell_type": "code",
   "execution_count": 29,
   "metadata": {},
   "outputs": [
    {
     "data": {
      "text/plain": [
       "Index(['c_yellow', 'p_credit', 't_BronBron', 't_BronBroo', 't_BronManh',\n",
       "       't_BronQuee', 't_BrooBron', 't_BrooBroo', 't_BrooManh', 't_BrooQuee',\n",
       "       't_ManhBron', 't_ManhBroo', 't_ManhManh', 't_ManhQuee', 't_ManhStat',\n",
       "       't_QueeBron', 't_QueeBroo', 't_QueeManh', 't_QueeQuee', 'p_Bron',\n",
       "       'p_Broo', 'p_Manh', 'p_Quee', 'd_Bron', 'd_Broo', 'd_Manh', 'd_Quee',\n",
       "       'd_Stat', 'pass', 'dist', 'fare', 'tip', 'tolls', 'total', 'p_day',\n",
       "       'p_hour'],\n",
       "      dtype='object')"
      ]
     },
     "execution_count": 29,
     "metadata": {},
     "output_type": "execute_result"
    }
   ],
   "source": [
    "df4_tr.columns = ['c_yellow', 'p_credit', 't_BronBron', 't_BronBroo', 't_BronManh', 't_BronQuee', 't_BrooBron', 't_BrooBroo', 't_BrooManh', \n",
    "    't_BrooQuee', 't_ManhBron', 't_ManhBroo', 't_ManhManh', 't_ManhQuee', 't_ManhStat', 't_QueeBron', 't_QueeBroo', 't_QueeManh', 't_QueeQuee',\n",
    "    'p_Bron', 'p_Broo', 'p_Manh', 'p_Quee', 'd_Bron', 'd_Broo', 'd_Manh', 'd_Quee', 'd_Stat',\n",
    "    'pass', 'dist', 'fare', 'tip', 'tolls', 'total', 'p_day', 'p_hour']\n",
    "df4_tr.columns"
   ]
  },
  {
   "cell_type": "code",
   "execution_count": 30,
   "metadata": {},
   "outputs": [
    {
     "data": {
      "text/html": [
       "<div>\n",
       "<style scoped>\n",
       "    .dataframe tbody tr th:only-of-type {\n",
       "        vertical-align: middle;\n",
       "    }\n",
       "\n",
       "    .dataframe tbody tr th {\n",
       "        vertical-align: top;\n",
       "    }\n",
       "\n",
       "    .dataframe thead th {\n",
       "        text-align: right;\n",
       "    }\n",
       "</style>\n",
       "<table border=\"1\" class=\"dataframe\">\n",
       "  <thead>\n",
       "    <tr style=\"text-align: right;\">\n",
       "      <th></th>\n",
       "      <th>c_yellow</th>\n",
       "      <th>p_credit</th>\n",
       "      <th>t_BronBron</th>\n",
       "      <th>t_BronBroo</th>\n",
       "      <th>t_BronManh</th>\n",
       "      <th>t_BronQuee</th>\n",
       "      <th>t_BrooBron</th>\n",
       "      <th>t_BrooBroo</th>\n",
       "      <th>t_BrooManh</th>\n",
       "      <th>t_BrooQuee</th>\n",
       "      <th>...</th>\n",
       "      <th>d_Quee</th>\n",
       "      <th>d_Stat</th>\n",
       "      <th>pass</th>\n",
       "      <th>dist</th>\n",
       "      <th>fare</th>\n",
       "      <th>tip</th>\n",
       "      <th>tolls</th>\n",
       "      <th>total</th>\n",
       "      <th>p_day</th>\n",
       "      <th>p_hour</th>\n",
       "    </tr>\n",
       "  </thead>\n",
       "  <tbody>\n",
       "    <tr>\n",
       "      <th>0</th>\n",
       "      <td>1.0</td>\n",
       "      <td>1.0</td>\n",
       "      <td>0.0</td>\n",
       "      <td>0.0</td>\n",
       "      <td>0.0</td>\n",
       "      <td>0.0</td>\n",
       "      <td>0.0</td>\n",
       "      <td>0.0</td>\n",
       "      <td>0.0</td>\n",
       "      <td>0.0</td>\n",
       "      <td>...</td>\n",
       "      <td>0.0</td>\n",
       "      <td>0.0</td>\n",
       "      <td>0.0</td>\n",
       "      <td>0.043336</td>\n",
       "      <td>0.040268</td>\n",
       "      <td>0.092712</td>\n",
       "      <td>0.0</td>\n",
       "      <td>0.067139</td>\n",
       "      <td>0.833333</td>\n",
       "      <td>0.869565</td>\n",
       "    </tr>\n",
       "    <tr>\n",
       "      <th>1</th>\n",
       "      <td>1.0</td>\n",
       "      <td>0.0</td>\n",
       "      <td>0.0</td>\n",
       "      <td>0.0</td>\n",
       "      <td>0.0</td>\n",
       "      <td>0.0</td>\n",
       "      <td>0.0</td>\n",
       "      <td>0.0</td>\n",
       "      <td>0.0</td>\n",
       "      <td>0.0</td>\n",
       "      <td>...</td>\n",
       "      <td>0.0</td>\n",
       "      <td>0.0</td>\n",
       "      <td>0.0</td>\n",
       "      <td>0.021259</td>\n",
       "      <td>0.026846</td>\n",
       "      <td>0.000000</td>\n",
       "      <td>0.0</td>\n",
       "      <td>0.046104</td>\n",
       "      <td>0.000000</td>\n",
       "      <td>0.695652</td>\n",
       "    </tr>\n",
       "    <tr>\n",
       "      <th>2</th>\n",
       "      <td>1.0</td>\n",
       "      <td>1.0</td>\n",
       "      <td>0.0</td>\n",
       "      <td>0.0</td>\n",
       "      <td>0.0</td>\n",
       "      <td>0.0</td>\n",
       "      <td>0.0</td>\n",
       "      <td>0.0</td>\n",
       "      <td>0.0</td>\n",
       "      <td>0.0</td>\n",
       "      <td>...</td>\n",
       "      <td>0.0</td>\n",
       "      <td>0.0</td>\n",
       "      <td>0.0</td>\n",
       "      <td>0.037067</td>\n",
       "      <td>0.043624</td>\n",
       "      <td>0.101768</td>\n",
       "      <td>0.0</td>\n",
       "      <td>0.074112</td>\n",
       "      <td>0.333333</td>\n",
       "      <td>0.739130</td>\n",
       "    </tr>\n",
       "    <tr>\n",
       "      <th>3</th>\n",
       "      <td>1.0</td>\n",
       "      <td>1.0</td>\n",
       "      <td>0.0</td>\n",
       "      <td>0.0</td>\n",
       "      <td>0.0</td>\n",
       "      <td>0.0</td>\n",
       "      <td>0.0</td>\n",
       "      <td>0.0</td>\n",
       "      <td>0.0</td>\n",
       "      <td>0.0</td>\n",
       "      <td>...</td>\n",
       "      <td>0.0</td>\n",
       "      <td>0.0</td>\n",
       "      <td>0.0</td>\n",
       "      <td>0.209594</td>\n",
       "      <td>0.174497</td>\n",
       "      <td>0.265201</td>\n",
       "      <td>0.0</td>\n",
       "      <td>0.205452</td>\n",
       "      <td>1.000000</td>\n",
       "      <td>0.043478</td>\n",
       "    </tr>\n",
       "    <tr>\n",
       "      <th>4</th>\n",
       "      <td>1.0</td>\n",
       "      <td>1.0</td>\n",
       "      <td>0.0</td>\n",
       "      <td>0.0</td>\n",
       "      <td>0.0</td>\n",
       "      <td>0.0</td>\n",
       "      <td>0.0</td>\n",
       "      <td>0.0</td>\n",
       "      <td>0.0</td>\n",
       "      <td>0.0</td>\n",
       "      <td>...</td>\n",
       "      <td>0.0</td>\n",
       "      <td>0.0</td>\n",
       "      <td>0.4</td>\n",
       "      <td>0.058599</td>\n",
       "      <td>0.053691</td>\n",
       "      <td>0.047434</td>\n",
       "      <td>0.0</td>\n",
       "      <td>0.069733</td>\n",
       "      <td>0.833333</td>\n",
       "      <td>0.565217</td>\n",
       "    </tr>\n",
       "  </tbody>\n",
       "</table>\n",
       "<p>5 rows × 36 columns</p>\n",
       "</div>"
      ],
      "text/plain": [
       "   c_yellow  p_credit  t_BronBron  t_BronBroo  t_BronManh  t_BronQuee  \\\n",
       "0       1.0       1.0         0.0         0.0         0.0         0.0   \n",
       "1       1.0       0.0         0.0         0.0         0.0         0.0   \n",
       "2       1.0       1.0         0.0         0.0         0.0         0.0   \n",
       "3       1.0       1.0         0.0         0.0         0.0         0.0   \n",
       "4       1.0       1.0         0.0         0.0         0.0         0.0   \n",
       "\n",
       "   t_BrooBron  t_BrooBroo  t_BrooManh  t_BrooQuee  ...  d_Quee  d_Stat  pass  \\\n",
       "0         0.0         0.0         0.0         0.0  ...     0.0     0.0   0.0   \n",
       "1         0.0         0.0         0.0         0.0  ...     0.0     0.0   0.0   \n",
       "2         0.0         0.0         0.0         0.0  ...     0.0     0.0   0.0   \n",
       "3         0.0         0.0         0.0         0.0  ...     0.0     0.0   0.0   \n",
       "4         0.0         0.0         0.0         0.0  ...     0.0     0.0   0.4   \n",
       "\n",
       "       dist      fare       tip  tolls     total     p_day    p_hour  \n",
       "0  0.043336  0.040268  0.092712    0.0  0.067139  0.833333  0.869565  \n",
       "1  0.021259  0.026846  0.000000    0.0  0.046104  0.000000  0.695652  \n",
       "2  0.037067  0.043624  0.101768    0.0  0.074112  0.333333  0.739130  \n",
       "3  0.209594  0.174497  0.265201    0.0  0.205452  1.000000  0.043478  \n",
       "4  0.058599  0.053691  0.047434    0.0  0.069733  0.833333  0.565217  \n",
       "\n",
       "[5 rows x 36 columns]"
      ]
     },
     "execution_count": 30,
     "metadata": {},
     "output_type": "execute_result"
    }
   ],
   "source": [
    "#OK, remember that most features in our dataset were skewed. Scaling helps with that. \n",
    "from sklearn.preprocessing import MinMaxScaler\n",
    "scaler = MinMaxScaler()\n",
    "df4_norm = scaler.fit_transform(df4_tr)\n",
    "norm_names = scaler.get_feature_names_out()\n",
    "df4_normdf = pd.DataFrame(df4_norm, columns = norm_names)\n",
    "df4_normdf.head()"
   ]
  },
  {
   "cell_type": "markdown",
   "metadata": {},
   "source": [
    "Finally, we'll go ahead and save this dataset, since we worked so hard to create it."
   ]
  },
  {
   "cell_type": "code",
   "execution_count": 1,
   "metadata": {},
   "outputs": [
    {
     "ename": "NameError",
     "evalue": "name 'df4' is not defined",
     "output_type": "error",
     "traceback": [
      "\u001b[1;31m---------------------------------------------------------------------------\u001b[0m",
      "\u001b[1;31mNameError\u001b[0m                                 Traceback (most recent call last)",
      "\u001b[1;32m~\\AppData\\Local\\Temp\\ipykernel_5360\\1852152709.py\u001b[0m in \u001b[0;36m<module>\u001b[1;34m\u001b[0m\n\u001b[1;32m----> 1\u001b[1;33m \u001b[0mdf4\u001b[0m\u001b[1;33m.\u001b[0m\u001b[0mto_csv\u001b[0m\u001b[1;33m(\u001b[0m\u001b[1;34m\"categories_output.csv\"\u001b[0m\u001b[1;33m)\u001b[0m\u001b[1;33m\u001b[0m\u001b[1;33m\u001b[0m\u001b[0m\n\u001b[0m\u001b[0;32m      2\u001b[0m \u001b[0mdf4_normdf\u001b[0m\u001b[1;33m.\u001b[0m\u001b[0mto_csv\u001b[0m\u001b[1;33m(\u001b[0m\u001b[1;34m\"encoded_output.csv\"\u001b[0m\u001b[1;33m)\u001b[0m\u001b[1;33m\u001b[0m\u001b[1;33m\u001b[0m\u001b[0m\n",
      "\u001b[1;31mNameError\u001b[0m: name 'df4' is not defined"
     ]
    }
   ],
   "source": [
    "df4.to_csv(\"categories_output.csv\")\n",
    "df4_normdf.to_csv(\"encoded_output.csv\") "
   ]
  },
  {
   "cell_type": "code",
   "execution_count": null,
   "metadata": {},
   "outputs": [],
   "source": []
  }
 ],
 "metadata": {
  "kernelspec": {
   "display_name": "Python 3 (ipykernel)",
   "language": "python",
   "name": "python3"
  },
  "language_info": {
   "codemirror_mode": {
    "name": "ipython",
    "version": 3
   },
   "file_extension": ".py",
   "mimetype": "text/x-python",
   "name": "python",
   "nbconvert_exporter": "python",
   "pygments_lexer": "ipython3",
   "version": "3.9.13"
  },
  "vscode": {
   "interpreter": {
    "hash": "7edd4e905d9b7ca730f7b0e9c082715bdac78ae21b6c7d0ae05faf51bf553083"
   }
  }
 },
 "nbformat": 4,
 "nbformat_minor": 2
}
